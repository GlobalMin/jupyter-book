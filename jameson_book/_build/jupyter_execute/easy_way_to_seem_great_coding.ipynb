{
 "cells": [
  {
   "cell_type": "markdown",
   "id": "93960e97",
   "metadata": {
    "user_expressions": []
   },
   "source": [
    "# This is all directly from a live Jupyter nb"
   ]
  },
  {
   "cell_type": "code",
   "execution_count": 1,
   "id": "ea6dab11",
   "metadata": {},
   "outputs": [
    {
     "name": "stdout",
     "output_type": "stream",
     "text": [
      "          objid          ra       dec         u         g         r         i  \\\n",
      "0  1.237650e+18  183.531326  0.089693  19.47406  17.04240  15.94699  15.50342   \n",
      "1  1.237650e+18  183.598370  0.135285  18.66280  17.21449  16.67637  16.48922   \n",
      "2  1.237650e+18  183.680207  0.126185  19.38298  18.19169  17.47428  17.08732   \n",
      "3  1.237650e+18  183.870529  0.049911  17.76536  16.60272  16.16116  15.98233   \n",
      "4  1.237650e+18  183.883288  0.102557  17.55025  16.26342  16.43869  16.55492   \n",
      "\n",
      "          z  run  rerun  camcol  field     specobjid   class  redshift  plate  \\\n",
      "0  15.22531  752    301       4    267  3.722360e+18    STAR -0.000009   3306   \n",
      "1  16.39150  752    301       4    267  3.638140e+17     QSO -0.000055    323   \n",
      "2  16.80125  752    301       4    268  3.232740e+17  GALAXY  0.123111    287   \n",
      "3  15.90438  752    301       4    269  3.722370e+18    STAR -0.000111   3306   \n",
      "4  16.61326  752    301       4    269  3.722370e+18    STAR  0.000590   3306   \n",
      "\n",
      "     mjd  fiberid partition  \n",
      "0  54922      491        V2  \n",
      "1  51615      541        V1  \n",
      "2  52023      513        V2  \n",
      "3  54922      510        V2  \n",
      "4  54922      512         H  \n"
     ]
    }
   ],
   "source": [
    "import pandas as pd\n",
    "\n",
    "# load data\n",
    "df = pd.read_csv(\"_static/example.csv\")\n",
    "\n",
    "print(df.head())"
   ]
  },
  {
   "cell_type": "code",
   "execution_count": 2,
   "id": "2f206c68",
   "metadata": {
    "pygments_style": "sphinx",
    "tags": [
     "scroll-output",
     "scroll_output"
    ]
   },
   "outputs": [
    {
     "name": "stdout",
     "output_type": "stream",
     "text": [
      "count    1.000000e+04\n",
      "mean     1.237650e+18\n",
      "std      0.000000e+00\n",
      "min      1.237650e+18\n",
      "25%      1.237650e+18\n",
      "50%      1.237650e+18\n",
      "75%      1.237650e+18\n",
      "max      1.237650e+18\n",
      "Name: objid, dtype: float64\n",
      "count    10000.000000\n",
      "mean       175.529987\n",
      "std         47.783439\n",
      "min          8.235100\n",
      "25%        157.370946\n",
      "50%        180.394514\n",
      "75%        201.547279\n",
      "max        260.884382\n",
      "Name: ra, dtype: float64\n",
      "count    10000.000000\n",
      "mean        14.836148\n",
      "std         25.212207\n",
      "min         -5.382632\n",
      "25%         -0.539035\n",
      "50%          0.404166\n",
      "75%         35.649397\n",
      "max         68.542265\n",
      "Name: dec, dtype: float64\n",
      "count    10000.000000\n",
      "mean        18.619355\n",
      "std          0.828656\n",
      "min         12.988970\n",
      "25%         18.178035\n",
      "50%         18.853095\n",
      "75%         19.259232\n",
      "max         19.599900\n",
      "Name: u, dtype: float64\n",
      "count    10000.000000\n",
      "mean        17.371931\n",
      "std          0.945457\n",
      "min         12.799550\n",
      "25%         16.815100\n",
      "50%         17.495135\n",
      "75%         18.010145\n",
      "max         19.918970\n",
      "Name: g, dtype: float64\n",
      "count    10000.000000\n",
      "mean        16.840963\n",
      "std          1.067764\n",
      "min         12.431600\n",
      "25%         16.173333\n",
      "50%         16.858770\n",
      "75%         17.512675\n",
      "max         24.802040\n",
      "Name: r, dtype: float64\n",
      "count    10000.000000\n",
      "mean        16.583579\n",
      "std          1.141805\n",
      "min         11.947210\n",
      "25%         15.853705\n",
      "50%         16.554985\n",
      "75%         17.258550\n",
      "max         28.179630\n",
      "Name: i, dtype: float64\n",
      "count    10000.000000\n",
      "mean        16.422833\n",
      "std          1.203188\n",
      "min         11.610410\n",
      "25%         15.618285\n",
      "50%         16.389945\n",
      "75%         17.141447\n",
      "max         22.833060\n",
      "Name: z, dtype: float64\n",
      "count    10000.000000\n",
      "mean       981.034800\n",
      "std        273.305024\n",
      "min        308.000000\n",
      "25%        752.000000\n",
      "50%        756.000000\n",
      "75%       1331.000000\n",
      "max       1412.000000\n",
      "Name: run, dtype: float64\n",
      "count    10000.0\n",
      "mean       301.0\n",
      "std          0.0\n",
      "min        301.0\n",
      "25%        301.0\n",
      "50%        301.0\n",
      "75%        301.0\n",
      "max        301.0\n",
      "Name: rerun, dtype: float64\n",
      "count    10000.000000\n",
      "mean         3.648700\n",
      "std          1.666183\n",
      "min          1.000000\n",
      "25%          2.000000\n",
      "50%          4.000000\n",
      "75%          5.000000\n",
      "max          6.000000\n",
      "Name: camcol, dtype: float64\n",
      "count    10000.000000\n",
      "mean       302.380100\n",
      "std        162.577763\n",
      "min         11.000000\n",
      "25%        184.000000\n",
      "50%        299.000000\n",
      "75%        414.000000\n",
      "max        768.000000\n",
      "Name: field, dtype: float64\n",
      "count    1.000000e+04\n",
      "mean     1.645022e+18\n",
      "std      2.013998e+18\n",
      "min      2.995780e+17\n",
      "25%      3.389248e+17\n",
      "50%      4.966580e+17\n",
      "75%      2.881300e+18\n",
      "max      9.468830e+18\n",
      "Name: specobjid, dtype: float64\n",
      "count      10000\n",
      "unique         3\n",
      "top       GALAXY\n",
      "freq        4998\n",
      "Name: class, dtype: object\n",
      "count    10000.000000\n",
      "mean         0.143726\n",
      "std          0.388774\n",
      "min         -0.004136\n",
      "25%          0.000081\n",
      "50%          0.042591\n",
      "75%          0.092579\n",
      "max          5.353854\n",
      "Name: redshift, dtype: float64\n",
      "count    10000.000000\n",
      "mean      1460.986400\n",
      "std       1788.778371\n",
      "min        266.000000\n",
      "25%        301.000000\n",
      "50%        441.000000\n",
      "75%       2559.000000\n",
      "max       8410.000000\n",
      "Name: plate, dtype: float64\n",
      "count    10000.000000\n",
      "mean     52943.533300\n",
      "std       1511.150651\n",
      "min      51578.000000\n",
      "25%      51900.000000\n",
      "50%      51997.000000\n",
      "75%      54468.000000\n",
      "max      57481.000000\n",
      "Name: mjd, dtype: float64\n",
      "count    10000.000000\n",
      "mean       353.069400\n",
      "std        206.298149\n",
      "min          1.000000\n",
      "25%        186.750000\n",
      "50%        351.000000\n",
      "75%        510.000000\n",
      "max       1000.000000\n",
      "Name: fiberid, dtype: float64\n",
      "count     10000\n",
      "unique        3\n",
      "top           H\n",
      "freq       3369\n",
      "Name: partition, dtype: object\n"
     ]
    }
   ],
   "source": [
    "# Describe the columns one by one\n",
    "for c in df.columns:\n",
    "    print(df[c].describe())"
   ]
  },
  {
   "cell_type": "code",
   "execution_count": 3,
   "id": "8a3fa536",
   "metadata": {
    "tags": [
     "hide-output"
    ]
   },
   "outputs": [
    {
     "name": "stdout",
     "output_type": "stream",
     "text": [
      "          objid          ra        dec          u          g          r  \\\n",
      "0  1.237650e+18  157.370946  -0.539035  18.178035  16.815100  16.173333   \n",
      "1  1.237650e+18  180.394514   0.404166  18.853095  17.495135  16.858770   \n",
      "2  1.237650e+18  201.547279  35.649397  19.259232  18.010145  17.512675   \n",
      "\n",
      "           i          z     run  rerun  camcol  field     specobjid  \n",
      "0  15.853705  15.618285   752.0  301.0     2.0  184.0  3.389248e+17  \n",
      "1  16.554985  16.389945   756.0  301.0     4.0  299.0  4.966580e+17  \n",
      "2  17.258550  17.141447  1331.0  301.0     5.0  414.0  2.881300e+18  \n",
      "\n",
      "\n",
      "<class 'pandas.core.frame.DataFrame'>\n"
     ]
    }
   ],
   "source": [
    "## # Don't want to mess up the original data\n",
    "df_copy = df.copy()\n",
    "\n",
    "results = dict()\n",
    "for c in df_copy.columns:\n",
    "    if df_copy[c].dtype == \"object\":\n",
    "        break\n",
    "    elif df_copy[c].dtype in [\n",
    "        \"int64\",\n",
    "        \"float64\",\n",
    "        \"int32\",\n",
    "        \"float32\",\n",
    "        \"int16\",\n",
    "        \"float16\",\n",
    "        \"int8\",\n",
    "        \"float8\",\n",
    "    ]:\n",
    "        # take Xth percentile\n",
    "        results[c] = [\n",
    "            df_copy[c].quantile(0.25),\n",
    "            df_copy[c].quantile(0.5),\n",
    "            df_copy[c].quantile(0.75),\n",
    "        ]\n",
    "\n",
    "# Create a new dataframe\n",
    "df_results = pd.DataFrame(results)\n",
    "\n",
    "print(df_results)\n",
    "print(\"\\n\")\n",
    "print(type(df_results))"
   ]
  },
  {
   "cell_type": "code",
   "execution_count": 4,
   "id": "1666e388",
   "metadata": {},
   "outputs": [
    {
     "name": "stdout",
     "output_type": "stream",
     "text": [
      "                                     0                            1  \\\n",
      "objid     1,237,650,000,000,000,000.00 1,237,650,000,000,000,000.00   \n",
      "ra                              157.37                       180.39   \n",
      "dec                              -0.54                         0.40   \n",
      "u                                18.18                        18.85   \n",
      "g                                16.82                        17.50   \n",
      "r                                16.17                        16.86   \n",
      "i                                15.85                        16.55   \n",
      "z                                15.62                        16.39   \n",
      "run                             752.00                       756.00   \n",
      "rerun                           301.00                       301.00   \n",
      "camcol                            2.00                         4.00   \n",
      "field                           184.00                       299.00   \n",
      "specobjid   338,924,750,000,000,000.00   496,658,000,000,000,000.00   \n",
      "\n",
      "                                     2  \n",
      "objid     1,237,650,000,000,000,000.00  \n",
      "ra                              201.55  \n",
      "dec                              35.65  \n",
      "u                                19.26  \n",
      "g                                18.01  \n",
      "r                                17.51  \n",
      "i                                17.26  \n",
      "z                                17.14  \n",
      "run                           1,331.00  \n",
      "rerun                           301.00  \n",
      "camcol                            5.00  \n",
      "field                           414.00  \n",
      "specobjid 2,881,300,000,000,000,000.00  \n"
     ]
    }
   ],
   "source": [
    "## keep scientific notation but cap at 2 decimal places\n",
    "pd.options.display.float_format = \"{:,.2f}\".format\n",
    "print(df_results.T)"
   ]
  },
  {
   "cell_type": "markdown",
   "id": "48812194",
   "metadata": {},
   "source": [
    "## Using skimpy to automate a lot of this"
   ]
  },
  {
   "cell_type": "code",
   "execution_count": 5,
   "id": "61eb55ba",
   "metadata": {
    "tags": [
     "hide-input"
    ]
   },
   "outputs": [
    {
     "ename": "ModuleNotFoundError",
     "evalue": "No module named 'skimpy'",
     "output_type": "error",
     "traceback": [
      "\u001b[0;31m---------------------------------------------------------------------------\u001b[0m",
      "\u001b[0;31mModuleNotFoundError\u001b[0m                       Traceback (most recent call last)",
      "Cell \u001b[0;32mIn[5], line 1\u001b[0m\n\u001b[0;32m----> 1\u001b[0m \u001b[38;5;28;01mfrom\u001b[39;00m \u001b[38;5;21;01mskimpy\u001b[39;00m \u001b[38;5;28;01mimport\u001b[39;00m skim\n\u001b[1;32m      3\u001b[0m \u001b[38;5;66;03m# suppress warnings\u001b[39;00m\n\u001b[1;32m      4\u001b[0m \u001b[38;5;28;01mimport\u001b[39;00m \u001b[38;5;21;01mwarnings\u001b[39;00m\n",
      "\u001b[0;31mModuleNotFoundError\u001b[0m: No module named 'skimpy'"
     ]
    }
   ],
   "source": [
    "from skimpy import skim\n",
    "\n",
    "# suppress warnings\n",
    "import warnings\n",
    "\n",
    "warnings.filterwarnings(\"ignore\")\n",
    "\n",
    "skim(df)"
   ]
  },
  {
   "cell_type": "markdown",
   "id": "65464f07",
   "metadata": {},
   "source": [
    "## Pandas profiling"
   ]
  },
  {
   "cell_type": "code",
   "execution_count": null,
   "id": "35404c08",
   "metadata": {},
   "outputs": [],
   "source": [
    "from pandas_profiling import ProfileReport\n",
    "\n",
    "profile = ProfileReport(\n",
    "    df, title=\"Pandas Profiling Report\", html={\"style\": {\"full_width\": True}}\n",
    ")"
   ]
  },
  {
   "cell_type": "markdown",
   "id": "b36e198b",
   "metadata": {},
   "source": [
    "## Sidenotes and marginnotes\n",
    "\n",
    "Here's a sentence[^sn1] with multiple [^sn2] sidenotes.\n",
    "\n",
    "[^sn1]: Test sidenote 1.\n",
    "[^sn2]: Test sidenote 2.\n",
    "\n",
    "Here's a sentence[^mn1] with multiple marginnotes[^mn2].\n",
    "\n",
    "[^mn1]: {-} Test marginnote 1.\n",
    "[^mn2]: {-} Test marginnote 2.\n",
    "\n",
    "\n",
    "Sidenotes inside of admonitions should behave the same:\n",
    "\n",
    ":::{note}\n",
    "An admonition with a sidenote defined in the admonition[^snam1] and another defined outside of the admonition [^snam2].\n",
    "\n",
    "[^snam1]: Sidenote defined in the admonition.\n",
    "\n",
    ":::\n",
    "\n",
    "[^snam2]: Sidenote defined outside the admonition.\n",
    "\n",
    "\n",
    "## Nested admonitions\n",
    "\n",
    "These aren't theme-specific, but we still show below to make sure they work.\n",
    "\n",
    "::::{note} Here's a note!\n",
    ":::{tip} And a tip!\n",
    ":::\n",
    "::::\n",
    "\n",
    "## MyST Markdown elements\n",
    "\n",
    "Here are a few design elements to show off MyST Markdown.\n",
    "\n",
    "### Table alignment\n",
    "\n",
    "To ensure that markdown alignment is rendered properly.\n",
    "\n",
    "| Default Header | Left Align | Right Align | Center Align |\n",
    "| -------------- | :--------- | ----------: | :----------: |\n",
    "| Cell 1 | Cell 2 | Cell 3 | Cell 4 |\n",
    "| Cell 1 | Cell 2 | Cell 3 | Cell 4 |\n",
    "\n",
    "### List table width\n",
    "\n",
    "Testing list tables take width as expected.\n",
    "\n",
    "```{list-table}\n",
    ":width: 100%\n",
    "* - a\n",
    "  - b\n",
    "* - c\n",
    "  - d\n",
    "```"
   ]
  }
 ],
 "metadata": {
  "jupytext": {
   "formats": "ipynb,md:myst",
   "text_representation": {
    "extension": ".md",
    "format_name": "myst",
    "format_version": 0.13,
    "html_theme_options": {
     "hide_sidebar": true
    },
    "jupytext_version": "1.14.5",
    "number_source_lines": true
   }
  },
  "kernelspec": {
   "display_name": "Python 3 (ipykernel)",
   "language": "python",
   "name": "python3"
  },
  "language_info": {
   "codemirror_mode": {
    "name": "ipython",
    "version": 3
   },
   "file_extension": ".py",
   "mimetype": "text/x-python",
   "name": "python",
   "nbconvert_exporter": "python",
   "pygments_lexer": "ipython3",
   "version": "3.10.4"
  },
  "source_map": [
   17,
   21,
   33,
   44,
   80,
   84,
   88,
   100,
   105,
   111
  ]
 },
 "nbformat": 4,
 "nbformat_minor": 5
}