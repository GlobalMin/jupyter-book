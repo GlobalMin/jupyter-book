{
 "cells": [
  {
   "cell_type": "markdown",
   "id": "5bb8d7e0",
   "metadata": {},
   "source": [
    "# Data load\n",
    "\n",
    "::::{grid}\n",
    ":gutter: 3\n",
    "\n",
    ":::{grid-item-card} One!\n",
    "Here's the first card.\n",
    ":::\n",
    "\n",
    ":::{grid-item-card} Two!\n",
    "Here's the second card.\n",
    ":::\n",
    "\n",
    ":::{grid-item-card} Three!\n",
    "Here's the third card.\n",
    ":::\n",
    "::::\n",
    "\n",
    "\n",
    "\n",
    "```{code-block} python\n",
    "def print(text):\n",
    "    sys.stdout.write(text)\n",
    "```\n",
    "\n",
    "\n",
    "The original development of MLCC was in the cloud so the code was developed using this route but it's actually more efficient to run the code locally. This is because the cloud is not optimised for data science and the code is not optimised for the cloud. The code is optimised for local machines and the cloud is optimised for web services. The code is also optimised for the local machine because it's easier to debug and it's easier to run the code locally. The code is also optimised for the local machine because it's easier to debug and it's easier to run the code locally."
   ]
  },
  {
   "cell_type": "code",
   "execution_count": 1,
   "id": "a03646aa",
   "metadata": {},
   "outputs": [
    {
     "name": "stdout",
     "output_type": "stream",
     "text": [
      "Hello world\n"
     ]
    }
   ],
   "source": [
    "import sys\n",
    "sys.path.append(\"../\")\n",
    "\n",
    "print(\"Hello world\")"
   ]
  }
 ],
 "metadata": {
  "file_format": "mystnb",
  "kernelspec": {
   "display_name": "python3",
   "name": "python3"
  },
  "language_info": {
   "codemirror_mode": {
    "name": "ipython",
    "version": 3
   },
   "file_extension": ".py",
   "mimetype": "text/x-python",
   "name": "python",
   "nbconvert_exporter": "python",
   "pygments_lexer": "ipython3",
   "version": "3.10.9"
  },
  "otherkey1": "val1",
  "otherkey2": "val2",
  "source_map": [
   8,
   38
  ]
 },
 "nbformat": 4,
 "nbformat_minor": 5
}